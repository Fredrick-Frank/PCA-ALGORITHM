{
 "cells": [
  {
   "cell_type": "markdown",
   "metadata": {},
   "source": [
    "FACE RECOGNITION USING NEURAL NETWORK, DECISION TREE CLASSIFIER AND PRINCIPAL COMPONENT ANALYSIS.\n",
    "AIM: The aim of this project is to reduce the dimensions of the faces using the PCA algorithm."
   ]
  },
  {
   "cell_type": "code",
   "execution_count": 27,
   "metadata": {},
   "outputs": [],
   "source": [
    "import matplotlib.pyplot as plt\n",
    "\n",
    "from sklearn.model_selection import train_test_split\n",
    "from sklearn.datasets import fetch_lfw_people\n",
    "from sklearn.metrics import classification_report, confusion_matrix\n",
    "from sklearn.decomposition import PCA\n",
    "from sklearn.neural_network import MLPClassifier\n",
    "from sklearn.tree import DecisionTreeClassifier"
   ]
  },
  {
   "cell_type": "code",
   "execution_count": 3,
   "metadata": {},
   "outputs": [],
   "source": [
    "lfw_data = fetch_lfw_people(min_faces_per_person= 100)"
   ]
  },
  {
   "cell_type": "code",
   "execution_count": 4,
   "metadata": {},
   "outputs": [],
   "source": [
    "_, h, w = lfw_data.images.shape"
   ]
  },
  {
   "cell_type": "code",
   "execution_count": 9,
   "metadata": {},
   "outputs": [],
   "source": [
    "X = lfw_data.data"
   ]
  },
  {
   "cell_type": "code",
   "execution_count": 10,
   "metadata": {},
   "outputs": [],
   "source": [
    "Y = lfw_data.target"
   ]
  },
  {
   "cell_type": "code",
   "execution_count": 11,
   "metadata": {},
   "outputs": [
    {
     "name": "stdout",
     "output_type": "stream",
     "text": [
      "[[ 57.666668  64.        60.333332 ...  49.333332  25.333334  29.      ]\n",
      " [ 37.        60.        59.333332 ... 223.33333  201.66667  139.66667 ]\n",
      " [ 42.666668  29.666666  28.666666 ...  22.666666  22.666666  29.      ]\n",
      " ...\n",
      " [135.66667  117.666664 139.66667  ...  76.666664  81.333336  81.666664]\n",
      " [126.666664 118.666664 133.       ...  68.333336  64.666664  56.      ]\n",
      " [ 65.333336  86.       105.666664 ... 179.        93.333336  10.333333]]\n",
      "[1 1 0 1 0 1 1 1 2 1 0 1 1 2 2 1 2 1 0 1 1 2 1 1 1 1 1 2 1 1 1 1 0 1 1 1 0\n",
      " 1 1 1 2 1 1 0 1 2 1 0 1 1 1 1 1 1 2 0 1 2 1 0 1 0 1 0 1 1 2 1 1 0 1 2 1 1\n",
      " 1 1 1 1 0 1 1 1 0 1 1 1 1 2 0 1 1 0 1 1 2 0 2 1 2 0 1 1 2 1 1 1 0 1 0 1 0\n",
      " 2 1 1 2 1 1 1 0 1 0 2 2 2 1 0 1 2 1 1 1 1 0 1 1 2 1 1 1 0 2 1 1 1 1 1 0 1\n",
      " 1 1 1 1 2 1 1 0 1 1 1 0 2 1 0 0 1 1 1 1 1 1 1 1 0 1 2 1 1 1 1 1 1 0 1 0 1\n",
      " 1 1 1 2 1 1 2 2 1 0 1 0 1 0 2 1 1 1 1 0 1 1 1 1 1 0 0 0 1 2 1 1 1 1 2 1 1\n",
      " 1 1 0 2 1 1 1 1 0 0 1 1 0 1 1 1 2 1 1 1 1 1 1 1 1 1 1 1 1 1 1 1 1 1 1 1 1\n",
      " 1 2 0 1 1 0 0 2 0 1 0 1 1 2 1 1 0 0 0 1 2 1 1 1 1 1 1 1 1 1 1 2 0 1 1 1 1\n",
      " 1 1 1 1 2 1 0 1 0 1 2 1 2 1 1 1 1 0 1 1 2 1 1 1 1 1 0 1 1 0 1 1 1 1 0 2 0\n",
      " 1 1 1 1 0 2 1 2 1 1 1 0 1 1 1 1 1 1 1 1 2 2 2 1 1 1 1 1 1 0 1 1 1 2 1 0 0\n",
      " 1 1 0 1 2 1 1 1 1 2 1 2 1 1 1 2 1 1 1 1 2 1 1 1 2 1 1 1 1 1 0 1 1 1 1 2 0\n",
      " 1 1 0 1 1 0 1 1 1 1 1 1 1 1 1 1 1 1 1 0 1 1 1 1 0 1 1 1 0 1 1 1 1 1 2 1 0\n",
      " 2 2 0 1 1 1 2 1 1 2 1 0 2 0 1 1 1 0 0 2 2 0 1 1 1 1 1 2 1 0 1 1 1 0 2 1 1\n",
      " 0 1 1 0 1 1 2 1 1 1 1 2 1 2 1 2 1 1 2 1 1 1 2 1 2 0 2 1 1 1 1 1 1 1 1 1 1\n",
      " 0 1 1 0 1 1 0 0 1 1 2 1 1 1 0 1 0 1 1 1 1 1 1 1 1 1 1 1 2 1 1 1 2 2 1 1 1\n",
      " 1 1 1 1 1 2 1 1 1 1 1 1 1 1 1 1 2 1 1 1 1 2 1 2 1 2 1 1 2 1 1 1 1 1 0 1 2\n",
      " 1 1 1 1 1 2 1 1 1 1 1 1 2 1 1 1 1 2 2 2 1 1 1 1 0 1 1 1 0 1 1 2 1 2 0 1 1\n",
      " 1 1 1 2 1 1 1 1 1 0 2 1 1 0 1 1 1 0 0 1 1 0 2 1 1 1 1 1 1 1 1 1 0 1 1 1 2\n",
      " 1 0 0 1 0 1 1 1 1 0 1 1 1 1 1 2 1 1 1 1 1 1 0 1 1 0 2 1 0 1 0 1 1 1 1 0 1\n",
      " 1 1 1 0 1 1 1 1 1 2 1 1 2 1 1 1 1 2 1 2 1 2 1 0 1 1 1 0 1 1 1 1 1 1 1 1 1\n",
      " 1 2 1 2 0 1 0 1 1 1 1 1 1 0 2 0 0 1 1 0]\n"
     ]
    }
   ],
   "source": [
    "print(X)\n",
    "print(Y) "
   ]
  },
  {
   "cell_type": "code",
   "execution_count": 12,
   "metadata": {},
   "outputs": [],
   "source": [
    "target_names = lfw_data.target_names"
   ]
  },
  {
   "cell_type": "code",
   "execution_count": 13,
   "metadata": {},
   "outputs": [],
   "source": [
    "#splitting the dataset"
   ]
  },
  {
   "cell_type": "code",
   "execution_count": 14,
   "metadata": {},
   "outputs": [],
   "source": [
    "X_train,X_test,Y_train,Y_test = train_test_split(X,Y,test_size=0.3)"
   ]
  },
  {
   "cell_type": "code",
   "execution_count": 15,
   "metadata": {},
   "outputs": [],
   "source": [
    "#computation of the PCA:\n",
    "n_components = 100\n",
    "\n",
    "pca = PCA(n_components=n_components, whiten=True).fit(X_train)"
   ]
  },
  {
   "cell_type": "code",
   "execution_count": 16,
   "metadata": {},
   "outputs": [],
   "source": [
    "#application of the PCA transformation.\n",
    "X_train_pca = pca.transform(X_train)"
   ]
  },
  {
   "cell_type": "code",
   "execution_count": 17,
   "metadata": {},
   "outputs": [],
   "source": [
    "X_test_pca = pca.transform(X_test)"
   ]
  },
  {
   "cell_type": "code",
   "execution_count": 18,
   "metadata": {},
   "outputs": [
    {
     "name": "stdout",
     "output_type": "stream",
     "text": [
      "[[ 0.3731031   2.357318    0.29311317 ...  2.639295   -1.4225726\n",
      "  -1.8926117 ]\n",
      " [ 0.78107566 -1.2347214  -0.07207292 ...  0.6412168   0.11699108\n",
      "  -0.67031044]\n",
      " [ 1.8720509   1.438708    0.8737833  ...  0.40227807  1.6658894\n",
      "  -0.4710621 ]\n",
      " ...\n",
      " [-1.2203159   0.29766744 -0.7092601  ... -1.117783    1.3929008\n",
      "   0.00597827]\n",
      " [ 1.6893393   1.0482349  -1.3891766  ... -0.07739817  0.39209962\n",
      "   0.9754941 ]\n",
      " [-0.54342586  0.4189267  -0.3150735  ...  2.0089638   0.960219\n",
      "  -1.5698543 ]]\n",
      "[[-0.30046389 -0.91602594 -0.5794077  ...  0.09156068 -1.1590574\n",
      "   0.48588625]\n",
      " [-0.51799315  0.04046395  1.9325007  ... -0.19088908  1.5668423\n",
      "  -2.6470494 ]\n",
      " [ 0.35987097  0.19780289 -0.39956373 ... -0.14137729  0.5745745\n",
      "  -0.03898465]\n",
      " ...\n",
      " [-0.71458775  1.4777546  -2.97814    ...  1.1951282   0.11681678\n",
      "  -0.8018522 ]\n",
      " [ 0.8211691   2.2359736   0.4211461  ... -2.6824827   0.6990829\n",
      "  -0.79057896]\n",
      " [-0.44433382 -0.5200762  -0.14911163 ... -0.09666973 -0.6602386\n",
      "   0.6793764 ]]\n"
     ]
    }
   ],
   "source": [
    "print(X_train_pca)\n",
    "print(X_test_pca)"
   ]
  },
  {
   "cell_type": "code",
   "execution_count": 19,
   "metadata": {},
   "outputs": [
    {
     "name": "stdout",
     "output_type": "stream",
     "text": [
      "fitting the classifier to the training set\n"
     ]
    }
   ],
   "source": [
    "#training the neural network\n",
    "\n",
    "print(\"fitting the classifier to the training set\")"
   ]
  },
  {
   "cell_type": "code",
   "execution_count": 21,
   "metadata": {},
   "outputs": [
    {
     "name": "stdout",
     "output_type": "stream",
     "text": [
      "Iteration 1, loss = 1.02096669\n",
      "Validation score: 0.685185\n",
      "Iteration 2, loss = 0.70251074\n",
      "Validation score: 0.685185\n",
      "Iteration 3, loss = 0.54084016\n",
      "Validation score: 0.685185\n",
      "Iteration 4, loss = 0.43276956\n",
      "Validation score: 0.722222\n",
      "Iteration 5, loss = 0.34383819\n",
      "Validation score: 0.703704\n",
      "Iteration 6, loss = 0.27152836\n",
      "Validation score: 0.740741\n",
      "Iteration 7, loss = 0.21258677\n",
      "Validation score: 0.796296\n",
      "Iteration 8, loss = 0.17128981\n",
      "Validation score: 0.833333\n",
      "Iteration 9, loss = 0.14026820\n",
      "Validation score: 0.888889\n",
      "Iteration 10, loss = 0.11627573\n",
      "Validation score: 0.888889\n",
      "Iteration 11, loss = 0.09764055\n",
      "Validation score: 0.888889\n",
      "Iteration 12, loss = 0.08242871\n",
      "Validation score: 0.888889\n",
      "Iteration 13, loss = 0.07039149\n",
      "Validation score: 0.888889\n",
      "Iteration 14, loss = 0.06030613\n",
      "Validation score: 0.888889\n",
      "Iteration 15, loss = 0.05208042\n",
      "Validation score: 0.888889\n",
      "Iteration 16, loss = 0.04532886\n",
      "Validation score: 0.888889\n",
      "Iteration 17, loss = 0.03980801\n",
      "Validation score: 0.888889\n",
      "Iteration 18, loss = 0.03524990\n",
      "Validation score: 0.888889\n",
      "Iteration 19, loss = 0.03128447\n",
      "Validation score: 0.888889\n",
      "Iteration 20, loss = 0.02795830\n",
      "Validation score: 0.888889\n",
      "Validation score did not improve more than tol=0.000100 for 10 consecutive epochs. Stopping.\n"
     ]
    }
   ],
   "source": [
    "clf = MLPClassifier(hidden_layer_sizes=(1024,),batch_size=256, verbose=True,\n",
    " early_stopping=True).fit(X_train_pca,Y_train)"
   ]
  },
  {
   "cell_type": "code",
   "execution_count": 30,
   "metadata": {},
   "outputs": [],
   "source": [
    "y_pred = clf.predict(X_test_pca)"
   ]
  },
  {
   "cell_type": "code",
   "execution_count": 31,
   "metadata": {},
   "outputs": [
    {
     "name": "stdout",
     "output_type": "stream",
     "text": [
      "                   precision    recall  f1-score   support\n",
      "\n",
      "  Donald Rumsfeld       0.80      0.63      0.71        38\n",
      "    George W Bush       0.87      0.97      0.91       160\n",
      "Gerhard Schroeder       1.00      0.63      0.78        30\n",
      "\n",
      "         accuracy                           0.87       228\n",
      "        macro avg       0.89      0.74      0.80       228\n",
      "     weighted avg       0.87      0.87      0.86       228\n",
      "\n"
     ]
    }
   ],
   "source": [
    "print(classification_report(Y_test,y_pred,target_names=target_names))"
   ]
  },
  {
   "cell_type": "code",
   "execution_count": 32,
   "metadata": {},
   "outputs": [],
   "source": [
    "y_pred_train = clf.predict(X_train_pca)"
   ]
  },
  {
   "cell_type": "code",
   "execution_count": null,
   "metadata": {},
   "outputs": [],
   "source": [
    "print(classification_report(Y_train,y_pred_train, target_names=target_names))"
   ]
  },
  {
   "cell_type": "code",
   "execution_count": null,
   "metadata": {},
   "outputs": [],
   "source": [
    "#building the classification:\n",
    "def plot_gallery(images,titles,h,w,rows = 3, cols = 4):\n",
    "    plt.figure()\n",
    "    for i in range(rows * cols):\n",
    "        plt.subplot(rows,cols, i + 1)\n",
    "        plt.imshow(images[i].reshape((h,w)), cmap=plt.cm.gray)\n",
    "        plt.title(titles[i])\n",
    "        plt.xticks(())\n",
    "        plt.yticks(())\n",
    "\n",
    "\n",
    "def titles(y_pred,y_test,target_names):\n",
    "    for i in range(y_pred.shape[0]):\n",
    "        pred_name = target_names[y_pred[i]].split(' ')[-1]\n",
    "        true_name = target_names[Y_test[i]].split(' ')[-1]\n",
    "        yield 'predicted: {0}\\ntrue: {1}'.format(pred_name, true_name)\n",
    "\n",
    "\n",
    "\n",
    "prediction_titles = list(titles(y_pred,Y_test,target_names))\n",
    "plot_gallery(X_test,prediction_titles,h,w)"
   ]
  },
  {
   "cell_type": "code",
   "execution_count": null,
   "metadata": {},
   "outputs": [],
   "source": [
    "#summary note: the eigenfaces was used for face recognition called eigenfaces. \n",
    "# the essence of eginfaces is an unsupervised\n",
    "#  dimensionality reduction algorithm called PCA; Principal Component Analysis"
   ]
  },
  {
   "cell_type": "code",
   "execution_count": null,
   "metadata": {},
   "outputs": [],
   "source": []
  },
  {
   "cell_type": "code",
   "execution_count": null,
   "metadata": {},
   "outputs": [],
   "source": []
  },
  {
   "cell_type": "code",
   "execution_count": null,
   "metadata": {},
   "outputs": [],
   "source": []
  },
  {
   "cell_type": "code",
   "execution_count": null,
   "metadata": {},
   "outputs": [],
   "source": []
  },
  {
   "cell_type": "code",
   "execution_count": null,
   "metadata": {},
   "outputs": [],
   "source": []
  },
  {
   "cell_type": "code",
   "execution_count": null,
   "metadata": {},
   "outputs": [],
   "source": []
  },
  {
   "cell_type": "code",
   "execution_count": null,
   "metadata": {},
   "outputs": [],
   "source": []
  },
  {
   "cell_type": "code",
   "execution_count": null,
   "metadata": {},
   "outputs": [],
   "source": []
  },
  {
   "cell_type": "code",
   "execution_count": null,
   "metadata": {},
   "outputs": [],
   "source": []
  },
  {
   "cell_type": "code",
   "execution_count": null,
   "metadata": {},
   "outputs": [],
   "source": []
  },
  {
   "cell_type": "code",
   "execution_count": null,
   "metadata": {},
   "outputs": [],
   "source": []
  },
  {
   "cell_type": "code",
   "execution_count": null,
   "metadata": {},
   "outputs": [],
   "source": []
  },
  {
   "cell_type": "code",
   "execution_count": null,
   "metadata": {},
   "outputs": [],
   "source": []
  },
  {
   "cell_type": "code",
   "execution_count": null,
   "metadata": {},
   "outputs": [],
   "source": []
  },
  {
   "cell_type": "code",
   "execution_count": null,
   "metadata": {},
   "outputs": [],
   "source": []
  },
  {
   "cell_type": "code",
   "execution_count": null,
   "metadata": {},
   "outputs": [],
   "source": []
  },
  {
   "cell_type": "code",
   "execution_count": null,
   "metadata": {},
   "outputs": [],
   "source": []
  },
  {
   "cell_type": "code",
   "execution_count": null,
   "metadata": {},
   "outputs": [],
   "source": []
  },
  {
   "cell_type": "code",
   "execution_count": null,
   "metadata": {},
   "outputs": [],
   "source": []
  },
  {
   "cell_type": "code",
   "execution_count": null,
   "metadata": {},
   "outputs": [],
   "source": []
  },
  {
   "cell_type": "code",
   "execution_count": null,
   "metadata": {},
   "outputs": [],
   "source": []
  },
  {
   "cell_type": "code",
   "execution_count": null,
   "metadata": {},
   "outputs": [],
   "source": []
  }
 ],
 "metadata": {
  "interpreter": {
   "hash": "67c8ee08d2d9ad0da685d90e8153bef0a9fc568cc2d90a13a8e318e9231307c5"
  },
  "kernelspec": {
   "display_name": "Python 3.8.8 64-bit ('base': conda)",
   "language": "python",
   "name": "python3"
  },
  "language_info": {
   "codemirror_mode": {
    "name": "ipython",
    "version": 3
   },
   "file_extension": ".py",
   "mimetype": "text/x-python",
   "name": "python",
   "nbconvert_exporter": "python",
   "pygments_lexer": "ipython3",
   "version": "3.8.8"
  },
  "orig_nbformat": 4
 },
 "nbformat": 4,
 "nbformat_minor": 2
}
